{
 "cells": [
  {
   "cell_type": "code",
   "execution_count": 1,
   "metadata": {
    "ExecuteTime": {
     "end_time": "2020-03-13T08:13:45.463219Z",
     "start_time": "2020-03-13T08:13:44.839517Z"
    }
   },
   "outputs": [],
   "source": [
    "import numpy as np\n",
    "import pandas as pd"
   ]
  },
  {
   "cell_type": "markdown",
   "metadata": {},
   "source": [
    "## Soal 1"
   ]
  },
  {
   "cell_type": "code",
   "execution_count": 2,
   "metadata": {
    "ExecuteTime": {
     "end_time": "2020-03-13T08:13:45.472187Z",
     "start_time": "2020-03-13T08:13:45.467201Z"
    }
   },
   "outputs": [],
   "source": [
    "mylist = list('abcedfghijklmnopqrstuvwxyz')\n",
    "myarr = np.arange(26)\n",
    "mydict = dict(zip(mylist, myarr))\n",
    "ser = pd.Series(mydict)"
   ]
  },
  {
   "cell_type": "code",
   "execution_count": 3,
   "metadata": {
    "ExecuteTime": {
     "end_time": "2020-03-13T08:13:45.484155Z",
     "start_time": "2020-03-13T08:13:45.474182Z"
    }
   },
   "outputs": [
    {
     "data": {
      "text/plain": [
       "a     0\n",
       "b     1\n",
       "c     2\n",
       "e     3\n",
       "d     4\n",
       "f     5\n",
       "g     6\n",
       "h     7\n",
       "i     8\n",
       "j     9\n",
       "k    10\n",
       "l    11\n",
       "m    12\n",
       "n    13\n",
       "o    14\n",
       "p    15\n",
       "q    16\n",
       "r    17\n",
       "s    18\n",
       "t    19\n",
       "u    20\n",
       "v    21\n",
       "w    22\n",
       "x    23\n",
       "y    24\n",
       "z    25\n",
       "dtype: int64"
      ]
     },
     "execution_count": 3,
     "metadata": {},
     "output_type": "execute_result"
    }
   ],
   "source": [
    "ser"
   ]
  },
  {
   "cell_type": "markdown",
   "metadata": {},
   "source": [
    "## Soal 2"
   ]
  },
  {
   "cell_type": "code",
   "execution_count": 4,
   "metadata": {
    "ExecuteTime": {
     "end_time": "2020-03-13T08:13:45.490140Z",
     "start_time": "2020-03-13T08:13:45.486155Z"
    }
   },
   "outputs": [],
   "source": [
    "\n",
    "d1 = {'a': 100, 'b': 200, 'c':300, 'd':400, 'e':800}\n"
   ]
  },
  {
   "cell_type": "code",
   "execution_count": 5,
   "metadata": {
    "ExecuteTime": {
     "end_time": "2020-03-13T08:13:45.497122Z",
     "start_time": "2020-03-13T08:13:45.492134Z"
    }
   },
   "outputs": [
    {
     "data": {
      "text/plain": [
       "a    100\n",
       "b    200\n",
       "c    300\n",
       "d    400\n",
       "e    800\n",
       "dtype: int64"
      ]
     },
     "execution_count": 5,
     "metadata": {},
     "output_type": "execute_result"
    }
   ],
   "source": [
    "new_series = pd.Series(d1)\n",
    "new_series"
   ]
  },
  {
   "cell_type": "markdown",
   "metadata": {},
   "source": [
    "## Soal 3"
   ]
  },
  {
   "cell_type": "code",
   "execution_count": 6,
   "metadata": {
    "ExecuteTime": {
     "end_time": "2020-03-13T08:13:45.507096Z",
     "start_time": "2020-03-13T08:13:45.501110Z"
    }
   },
   "outputs": [
    {
     "data": {
      "text/plain": [
       "0     4\n",
       "1     4\n",
       "2     2\n",
       "3     3\n",
       "4     4\n",
       "     ..\n",
       "95    4\n",
       "96    1\n",
       "97    3\n",
       "98    3\n",
       "99    3\n",
       "Length: 100, dtype: int32"
      ]
     },
     "execution_count": 6,
     "metadata": {},
     "output_type": "execute_result"
    }
   ],
   "source": [
    "np.random.seed(101)\n",
    "num_series = pd.Series(np.random.randint(1, 5, 100))\n",
    "num_series"
   ]
  },
  {
   "cell_type": "code",
   "execution_count": 14,
   "metadata": {
    "ExecuteTime": {
     "end_time": "2020-03-13T08:48:54.883157Z",
     "start_time": "2020-03-13T08:48:54.877138Z"
    }
   },
   "outputs": [
    {
     "data": {
      "text/plain": [
       "Other    64\n",
       "4        36\n",
       "dtype: int64"
      ]
     },
     "execution_count": 14,
     "metadata": {},
     "output_type": "execute_result"
    }
   ],
   "source": [
    "num_series.value_counts()[:2]"
   ]
  },
  {
   "cell_type": "code",
   "execution_count": 8,
   "metadata": {
    "ExecuteTime": {
     "end_time": "2020-03-13T08:13:45.528038Z",
     "start_time": "2020-03-13T08:13:45.518077Z"
    }
   },
   "outputs": [
    {
     "name": "stdout",
     "output_type": "stream",
     "text": [
      "Top 2 Freq are 4 with freq 36 and 1 with freq 30\n"
     ]
    }
   ],
   "source": [
    "top_2_freq = num_series.value_counts()[:2].values\n",
    "top_2_index = num_series.value_counts()[:2].index\n",
    "print(f\"Top 2 Freq are {top_2_index[0]} with freq {top_2_freq[0]} and {top_2_index[1]} with freq {top_2_freq[1]}\")\n"
   ]
  },
  {
   "cell_type": "code",
   "execution_count": 9,
   "metadata": {
    "ExecuteTime": {
     "end_time": "2020-03-13T08:13:45.538012Z",
     "start_time": "2020-03-13T08:13:45.530035Z"
    }
   },
   "outputs": [
    {
     "data": {
      "text/plain": [
       "4"
      ]
     },
     "execution_count": 9,
     "metadata": {},
     "output_type": "execute_result"
    }
   ],
   "source": [
    "num_series.value_counts().index[0]"
   ]
  },
  {
   "cell_type": "code",
   "execution_count": 10,
   "metadata": {
    "ExecuteTime": {
     "end_time": "2020-03-13T08:13:45.546988Z",
     "start_time": "2020-03-13T08:13:45.540007Z"
    }
   },
   "outputs": [
    {
     "data": {
      "text/plain": [
       "2     2\n",
       "3     3\n",
       "6     2\n",
       "9     2\n",
       "10    2\n",
       "     ..\n",
       "94    1\n",
       "96    1\n",
       "97    3\n",
       "98    3\n",
       "99    3\n",
       "Length: 64, dtype: int32"
      ]
     },
     "execution_count": 10,
     "metadata": {},
     "output_type": "execute_result"
    }
   ],
   "source": [
    "num_series[~(num_series == num_series.value_counts().index[0])]"
   ]
  },
  {
   "cell_type": "code",
   "execution_count": 11,
   "metadata": {
    "ExecuteTime": {
     "end_time": "2020-03-13T08:13:45.557959Z",
     "start_time": "2020-03-13T08:13:45.551978Z"
    }
   },
   "outputs": [],
   "source": [
    "num_series[~(num_series == num_series.value_counts().index[0])] = 'Other'"
   ]
  },
  {
   "cell_type": "code",
   "execution_count": 23,
   "metadata": {
    "ExecuteTime": {
     "end_time": "2020-03-13T08:58:13.814797Z",
     "start_time": "2020-03-13T08:58:13.808815Z"
    }
   },
   "outputs": [],
   "source": [
    "num_series.loc[idx_other] = ['Other' for i in range(len(num_series[num_series =='Other'].index))]"
   ]
  },
  {
   "cell_type": "code",
   "execution_count": 24,
   "metadata": {
    "ExecuteTime": {
     "end_time": "2020-03-13T08:58:14.201765Z",
     "start_time": "2020-03-13T08:58:14.193786Z"
    }
   },
   "outputs": [
    {
     "data": {
      "text/plain": [
       "0         4\n",
       "1         4\n",
       "2     Other\n",
       "3     Other\n",
       "4         4\n",
       "      ...  \n",
       "95        4\n",
       "96    Other\n",
       "97    Other\n",
       "98    Other\n",
       "99    Other\n",
       "Length: 100, dtype: object"
      ]
     },
     "execution_count": 24,
     "metadata": {},
     "output_type": "execute_result"
    }
   ],
   "source": [
    "num_series"
   ]
  },
  {
   "cell_type": "code",
   "execution_count": 13,
   "metadata": {
    "ExecuteTime": {
     "end_time": "2020-03-13T08:13:45.575911Z",
     "start_time": "2020-03-13T08:13:45.567932Z"
    }
   },
   "outputs": [
    {
     "data": {
      "text/plain": [
       "0     False\n",
       "1     False\n",
       "2      True\n",
       "3      True\n",
       "4     False\n",
       "      ...  \n",
       "95    False\n",
       "96     True\n",
       "97     True\n",
       "98     True\n",
       "99     True\n",
       "Length: 100, dtype: bool"
      ]
     },
     "execution_count": 13,
     "metadata": {},
     "output_type": "execute_result"
    }
   ],
   "source": [
    "~num_series.isin(np.array([4]))"
   ]
  },
  {
   "cell_type": "code",
   "execution_count": null,
   "metadata": {},
   "outputs": [],
   "source": []
  }
 ],
 "metadata": {
  "hide_input": false,
  "kernelspec": {
   "display_name": "Python 3",
   "language": "python",
   "name": "python3"
  },
  "language_info": {
   "codemirror_mode": {
    "name": "ipython",
    "version": 3
   },
   "file_extension": ".py",
   "mimetype": "text/x-python",
   "name": "python",
   "nbconvert_exporter": "python",
   "pygments_lexer": "ipython3",
   "version": "3.7.3"
  },
  "varInspector": {
   "cols": {
    "lenName": 16,
    "lenType": 16,
    "lenVar": 40
   },
   "kernels_config": {
    "python": {
     "delete_cmd_postfix": "",
     "delete_cmd_prefix": "del ",
     "library": "var_list.py",
     "varRefreshCmd": "print(var_dic_list())"
    },
    "r": {
     "delete_cmd_postfix": ") ",
     "delete_cmd_prefix": "rm(",
     "library": "var_list.r",
     "varRefreshCmd": "cat(var_dic_list()) "
    }
   },
   "types_to_exclude": [
    "module",
    "function",
    "builtin_function_or_method",
    "instance",
    "_Feature"
   ],
   "window_display": false
  }
 },
 "nbformat": 4,
 "nbformat_minor": 2
}
